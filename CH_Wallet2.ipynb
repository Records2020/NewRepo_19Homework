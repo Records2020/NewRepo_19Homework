{
 "cells": [
  {
   "cell_type": "markdown",
   "id": "obvious-italian",
   "metadata": {},
   "source": [
    "# In the below code I'm setting up my wallet. I'm establishing all the required criteria to import my data from, plus setting up the web3 connection"
   ]
  },
  {
   "cell_type": "code",
   "execution_count": 1,
   "id": "fiscal-burke",
   "metadata": {},
   "outputs": [
    {
     "name": "stderr",
     "output_type": "stream",
     "text": [
      "Python-dotenv could not parse statement starting at line 1\n"
     ]
    },
    {
     "data": {
      "text/plain": [
       "True"
      ]
     },
     "execution_count": 1,
     "metadata": {},
     "output_type": "execute_result"
    }
   ],
   "source": [
    "import subprocess\n",
    "import json\n",
    "import bit\n",
    "import web3\n",
    "import os\n",
    "import constants\n",
    "\n",
    "from eth_account import Account\n",
    "from bit.network import NetworkAPI\n",
    "\n",
    "from web3 import Web3\n",
    "from dotenv import load_dotenv\n",
    "from web3.middleware import geth_poa_middleware\n",
    "\n",
    "load_dotenv()"
   ]
  },
  {
   "cell_type": "markdown",
   "id": "apart-familiar",
   "metadata": {},
   "source": [
    "# Establishing the web3 provider route. "
   ]
  },
  {
   "cell_type": "code",
   "execution_count": 2,
   "id": "adjacent-sender",
   "metadata": {},
   "outputs": [],
   "source": [
    "w3 = Web3(Web3.HTTPProvider('http://127.0.0.1:8545'))\n",
    "w3.middleware_onion.inject(geth_poa_middleware, layer=0)"
   ]
  },
  {
   "cell_type": "markdown",
   "id": "ecological-legend",
   "metadata": {},
   "source": [
    "# Setting up my mnemonic reference to connect with my environment and wallet for transactions. "
   ]
  },
  {
   "cell_type": "code",
   "execution_count": 3,
   "id": "alert-recorder",
   "metadata": {},
   "outputs": [],
   "source": [
    "mnemonic = os.getenv(\"MNEMONIC\", \"pig chimney brain stool open sea since increase canoe sand bronze wise\")"
   ]
  },
  {
   "cell_type": "code",
   "execution_count": 8,
   "id": "hungry-methodology",
   "metadata": {},
   "outputs": [],
   "source": [
    "def derive_wallets(mnemonic):\n",
    "    output_json = dict()\n",
    "    command = [\"/Users/hatti/GWU_Bootcamp/19-Blockchain-Python/Homework/hd-wallet-derive/hd-wallet-derive.php\", \"-g\", \"--mnemonic='\"+mnemonic+\"'\", \"--cols=path, address, privkey, pubkey\", \"--format=json\", \"--coin=eth\", \"--numberive=3\"]\n",
    "    p = subprocess.Popen(command, stdout=subprocess.PIPE, stderr=subprocess.PIPE)\n",
    "    stdout, stderr = p.communicate()\n",
    "    p_status = p.wait()\n",
    "    command_out = json.loads(stdout)\n",
    "               \n",
    "    output_json['eth'] = command_out\n",
    "               \n",
    "    command = [\"/Users/hatti/GWU_Bootcamp/19-Blockchain-Python/Homework/hd-wallet-derive/hd-wallet-derive.php\", \"-g\", \"--mnemonic='\"+mnemonic+\"'\", \"--cols=path, address, privkey, pubkey\", \"--format=json\", \"--coin=btc\", \"--numberive=3\"]\n",
    "    p = subprocess.Popen(command, stdout=subprocess.PIPE, stderr=subprocess.PIPE)\n",
    "    stdout, stderr = p.communicate()\n",
    "    p_status = p.wait()\n",
    "    command_out = json.loads(stdout)\n",
    "               \n",
    "    output_json['btc'] = command_out        \n",
    "        \n",
    "    command = [\"/Users/hatti/GWU_Bootcamp/19-Blockchain-Python/Homework/hd-wallet-derive/hd-wallet-derive.php\", \"-g\", \"--mnemonic='\"+mnemonic+\"'\", \"--cols=path, address, privkey, pubkey\", \"--format=json\", \"--coin=btc-test\", \"--numberive=3\"]\n",
    "    p = subprocess.Popen(command, stdout=subprocess.PIPE, stderr=subprocess.PIPE)\n",
    "    stdout, stderr = p.communicate()\n",
    "    p_status = p.wait()\n",
    "    command_out = json.loads(stdout)\n",
    "               \n",
    "    output_json['btc-test'] = command_out\n",
    "               \n",
    "    return output_json                         "
   ]
  },
  {
   "cell_type": "code",
   "execution_count": 9,
   "id": "executed-money",
   "metadata": {},
   "outputs": [
    {
     "ename": "OSError",
     "evalue": "[WinError 193] %1 is not a valid Win32 application",
     "output_type": "error",
     "traceback": [
      "\u001b[1;31m---------------------------------------------------------------------------\u001b[0m",
      "\u001b[1;31mOSError\u001b[0m                                   Traceback (most recent call last)",
      "\u001b[1;32m<ipython-input-9-6f01c32c44bb>\u001b[0m in \u001b[0;36m<module>\u001b[1;34m\u001b[0m\n\u001b[0;32m     30\u001b[0m \u001b[1;33m\u001b[0m\u001b[0m\n\u001b[0;32m     31\u001b[0m \u001b[1;32mif\u001b[0m \u001b[0m__name__\u001b[0m\u001b[1;33m==\u001b[0m \u001b[1;34m\"__main__\"\u001b[0m\u001b[1;33m:\u001b[0m\u001b[1;33m\u001b[0m\u001b[1;33m\u001b[0m\u001b[0m\n\u001b[1;32m---> 32\u001b[1;33m     \u001b[0mcoins\u001b[0m \u001b[1;33m=\u001b[0m \u001b[0mderive_wallets\u001b[0m\u001b[1;33m(\u001b[0m\u001b[0mmnemonic\u001b[0m\u001b[1;33m)\u001b[0m\u001b[1;33m\u001b[0m\u001b[1;33m\u001b[0m\u001b[0m\n\u001b[0m\u001b[0;32m     33\u001b[0m     \u001b[0mprint\u001b[0m\u001b[1;33m(\u001b[0m\u001b[0mcoins\u001b[0m\u001b[1;33m)\u001b[0m\u001b[1;33m\u001b[0m\u001b[1;33m\u001b[0m\u001b[0m\n\u001b[0;32m     34\u001b[0m     \u001b[0mprint\u001b[0m\u001b[1;33m(\u001b[0m\u001b[0mcoins\u001b[0m\u001b[1;33m[\u001b[0m\u001b[1;34m'eth'\u001b[0m\u001b[1;33m]\u001b[0m\u001b[1;33m[\u001b[0m\u001b[1;36m0\u001b[0m\u001b[1;33m]\u001b[0m\u001b[1;33m[\u001b[0m\u001b[1;34m'privkey'\u001b[0m\u001b[1;33m]\u001b[0m\u001b[1;33m)\u001b[0m\u001b[1;33m\u001b[0m\u001b[1;33m\u001b[0m\u001b[0m\n",
      "\u001b[1;32m<ipython-input-8-b5e7c73beb55>\u001b[0m in \u001b[0;36mderive_wallets\u001b[1;34m(mnemonic)\u001b[0m\n\u001b[0;32m      2\u001b[0m     \u001b[0moutput_json\u001b[0m \u001b[1;33m=\u001b[0m \u001b[0mdict\u001b[0m\u001b[1;33m(\u001b[0m\u001b[1;33m)\u001b[0m\u001b[1;33m\u001b[0m\u001b[1;33m\u001b[0m\u001b[0m\n\u001b[0;32m      3\u001b[0m     \u001b[0mcommand\u001b[0m \u001b[1;33m=\u001b[0m \u001b[1;33m[\u001b[0m\u001b[1;34m\"/Users/hatti/GWU_Bootcamp/19-Blockchain-Python/Homework/hd-wallet-derive/hd-wallet-derive.php\"\u001b[0m\u001b[1;33m,\u001b[0m \u001b[1;34m\"-g\"\u001b[0m\u001b[1;33m,\u001b[0m \u001b[1;34m\"--mnemonic='\"\u001b[0m\u001b[1;33m+\u001b[0m\u001b[0mmnemonic\u001b[0m\u001b[1;33m+\u001b[0m\u001b[1;34m\"'\"\u001b[0m\u001b[1;33m,\u001b[0m \u001b[1;34m\"--cols=path, address, privkey, pubkey\"\u001b[0m\u001b[1;33m,\u001b[0m \u001b[1;34m\"--format=json\"\u001b[0m\u001b[1;33m,\u001b[0m \u001b[1;34m\"--coin=eth\"\u001b[0m\u001b[1;33m,\u001b[0m \u001b[1;34m\"--numberive=3\"\u001b[0m\u001b[1;33m]\u001b[0m\u001b[1;33m\u001b[0m\u001b[1;33m\u001b[0m\u001b[0m\n\u001b[1;32m----> 4\u001b[1;33m     \u001b[0mp\u001b[0m \u001b[1;33m=\u001b[0m \u001b[0msubprocess\u001b[0m\u001b[1;33m.\u001b[0m\u001b[0mPopen\u001b[0m\u001b[1;33m(\u001b[0m\u001b[0mcommand\u001b[0m\u001b[1;33m,\u001b[0m \u001b[0mstdout\u001b[0m\u001b[1;33m=\u001b[0m\u001b[0msubprocess\u001b[0m\u001b[1;33m.\u001b[0m\u001b[0mPIPE\u001b[0m\u001b[1;33m,\u001b[0m \u001b[0mstderr\u001b[0m\u001b[1;33m=\u001b[0m\u001b[0msubprocess\u001b[0m\u001b[1;33m.\u001b[0m\u001b[0mPIPE\u001b[0m\u001b[1;33m)\u001b[0m\u001b[1;33m\u001b[0m\u001b[1;33m\u001b[0m\u001b[0m\n\u001b[0m\u001b[0;32m      5\u001b[0m     \u001b[0mstdout\u001b[0m\u001b[1;33m,\u001b[0m \u001b[0mstderr\u001b[0m \u001b[1;33m=\u001b[0m \u001b[0mp\u001b[0m\u001b[1;33m.\u001b[0m\u001b[0mcommunicate\u001b[0m\u001b[1;33m(\u001b[0m\u001b[1;33m)\u001b[0m\u001b[1;33m\u001b[0m\u001b[1;33m\u001b[0m\u001b[0m\n\u001b[0;32m      6\u001b[0m     \u001b[0mp_status\u001b[0m \u001b[1;33m=\u001b[0m \u001b[0mp\u001b[0m\u001b[1;33m.\u001b[0m\u001b[0mwait\u001b[0m\u001b[1;33m(\u001b[0m\u001b[1;33m)\u001b[0m\u001b[1;33m\u001b[0m\u001b[1;33m\u001b[0m\u001b[0m\n",
      "\u001b[1;32m~\\anaconda3\\envs\\ethereum\\lib\\subprocess.py\u001b[0m in \u001b[0;36m__init__\u001b[1;34m(self, args, bufsize, executable, stdin, stdout, stderr, preexec_fn, close_fds, shell, cwd, env, universal_newlines, startupinfo, creationflags, restore_signals, start_new_session, pass_fds, encoding, errors, text)\u001b[0m\n\u001b[0;32m    798\u001b[0m                                 \u001b[0mc2pread\u001b[0m\u001b[1;33m,\u001b[0m \u001b[0mc2pwrite\u001b[0m\u001b[1;33m,\u001b[0m\u001b[1;33m\u001b[0m\u001b[1;33m\u001b[0m\u001b[0m\n\u001b[0;32m    799\u001b[0m                                 \u001b[0merrread\u001b[0m\u001b[1;33m,\u001b[0m \u001b[0merrwrite\u001b[0m\u001b[1;33m,\u001b[0m\u001b[1;33m\u001b[0m\u001b[1;33m\u001b[0m\u001b[0m\n\u001b[1;32m--> 800\u001b[1;33m                                 restore_signals, start_new_session)\n\u001b[0m\u001b[0;32m    801\u001b[0m         \u001b[1;32mexcept\u001b[0m\u001b[1;33m:\u001b[0m\u001b[1;33m\u001b[0m\u001b[1;33m\u001b[0m\u001b[0m\n\u001b[0;32m    802\u001b[0m             \u001b[1;31m# Cleanup if the child failed starting.\u001b[0m\u001b[1;33m\u001b[0m\u001b[1;33m\u001b[0m\u001b[1;33m\u001b[0m\u001b[0m\n",
      "\u001b[1;32m~\\anaconda3\\envs\\ethereum\\lib\\subprocess.py\u001b[0m in \u001b[0;36m_execute_child\u001b[1;34m(self, args, executable, preexec_fn, close_fds, pass_fds, cwd, env, startupinfo, creationflags, shell, p2cread, p2cwrite, c2pread, c2pwrite, errread, errwrite, unused_restore_signals, unused_start_new_session)\u001b[0m\n\u001b[0;32m   1205\u001b[0m                                          \u001b[0menv\u001b[0m\u001b[1;33m,\u001b[0m\u001b[1;33m\u001b[0m\u001b[1;33m\u001b[0m\u001b[0m\n\u001b[0;32m   1206\u001b[0m                                          \u001b[0mos\u001b[0m\u001b[1;33m.\u001b[0m\u001b[0mfspath\u001b[0m\u001b[1;33m(\u001b[0m\u001b[0mcwd\u001b[0m\u001b[1;33m)\u001b[0m \u001b[1;32mif\u001b[0m \u001b[0mcwd\u001b[0m \u001b[1;32mis\u001b[0m \u001b[1;32mnot\u001b[0m \u001b[1;32mNone\u001b[0m \u001b[1;32melse\u001b[0m \u001b[1;32mNone\u001b[0m\u001b[1;33m,\u001b[0m\u001b[1;33m\u001b[0m\u001b[1;33m\u001b[0m\u001b[0m\n\u001b[1;32m-> 1207\u001b[1;33m                                          startupinfo)\n\u001b[0m\u001b[0;32m   1208\u001b[0m             \u001b[1;32mfinally\u001b[0m\u001b[1;33m:\u001b[0m\u001b[1;33m\u001b[0m\u001b[1;33m\u001b[0m\u001b[0m\n\u001b[0;32m   1209\u001b[0m                 \u001b[1;31m# Child is launched. Close the parent's copy of those pipe\u001b[0m\u001b[1;33m\u001b[0m\u001b[1;33m\u001b[0m\u001b[1;33m\u001b[0m\u001b[0m\n",
      "\u001b[1;31mOSError\u001b[0m: [WinError 193] %1 is not a valid Win32 application"
     ]
    }
   ],
   "source": [
    "def priv_key_to_account(coin, privkey):\n",
    "    if coin == constant.BTCTEST:\n",
    "        return bit.PrivateKeyTestnet(privkey)\n",
    "    \n",
    "    elif coin == constant.ETH:\n",
    "        return web3.eth.accounts.privateKeyToAccount(privkey)\n",
    "\n",
    "def create_raw_tx(coin, account, recipient, amount):\n",
    "    gasEstimate = w3.eth.estimateGas(\n",
    "        {\"from\": account.address, \"to\":recipient, \"value\":amount}\n",
    "    )\n",
    "    \n",
    "    return {\n",
    "        \"from\": account.address,\n",
    "        \"to\": recipient,\n",
    "        \"value\": amount,\n",
    "        \"gasPrice\": w3.eth.gasPrice,\n",
    "        \"gas\": gasEstimate,\n",
    "        \"nonce\": w3.eth.getTransactionCount(account.address),\n",
    "    }\n",
    "\n",
    "def send_tx(coin, account, recipient, amount):\n",
    "    tx = create_raw_tx('eth', account, recipient, amount)\n",
    "    signed_tx = account.sign_transaction(tx)\n",
    "    result = w3.eth.sendRawTransaction(signed_tx.rawTransaction)\n",
    "    tx_hash=create_tx('btc-test',account,recipient,amount)\n",
    "    result=NetworkAPI.broadcast_tx_testnet(tx_hash)\n",
    "    print(result.hex())\n",
    "    return result.hex\n",
    "\n",
    "if __name__== \"__main__\":\n",
    "    coins = derive_wallets(mnemonic)\n",
    "    print(coins)\n",
    "    print(coins['eth'][0]['privkey'])\n",
    "    \n",
    "\n",
    "#if __name__ == \"__main__\":\n",
    "   # coins = mnemonic\n",
    "\n",
    "   # account=priv_key_to_account('btc-test', '.....')\n",
    "    #create_tx('btc-test', account, coins['btc-test'][0]['address'], 0.00008)\n",
    "\n",
    "  #  output = send_tx('btc-test', account, coins['btc-test'][0]['address'], 0.00008)\n",
    "   # print(output)"
   ]
  },
  {
   "cell_type": "markdown",
   "id": "handed-checklist",
   "metadata": {},
   "source": [
    "# End Result\n",
    "After spending a large amount of time on troubleshooting the code. Reloading the PHP directory using XAMPP and following through the troubleshooting guide mulitiple times and working with the TA's I was still not able to conclude a successful code run. "
   ]
  }
 ],
 "metadata": {
  "kernelspec": {
   "display_name": "Python [conda env:ethereum]",
   "language": "python",
   "name": "conda-env-ethereum-py"
  },
  "language_info": {
   "codemirror_mode": {
    "name": "ipython",
    "version": 3
   },
   "file_extension": ".py",
   "mimetype": "text/x-python",
   "name": "python",
   "nbconvert_exporter": "python",
   "pygments_lexer": "ipython3",
   "version": "3.7.9"
  }
 },
 "nbformat": 4,
 "nbformat_minor": 5
}
