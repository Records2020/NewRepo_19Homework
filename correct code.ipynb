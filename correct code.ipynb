{
 "cells": [
  {
   "cell_type": "markdown",
   "metadata": {},
   "source": [
    "## Metin, I have been thinking about this a lot, is there a way to run HD-Wallet-Derive from Python?"
   ]
  },
  {
   "cell_type": "markdown",
   "metadata": {},
   "source": [
    "#### Not to worry my friend, there is a way...\n",
    "#### We first have to figure out, what our current working directory is "
   ]
  },
  {
   "cell_type": "code",
   "execution_count": 1,
   "metadata": {},
   "outputs": [
    {
     "data": {
      "text/plain": [
       "'C:\\\\Users\\\\hatti\\\\GWU_Bootcamp'"
      ]
     },
     "execution_count": 1,
     "metadata": {},
     "output_type": "execute_result"
    }
   ],
   "source": [
    "pwd()"
   ]
  },
  {
   "cell_type": "markdown",
   "metadata": {},
   "source": [
    "and then switch to the parent directory of where HD-Wallet is installed: (that is, one directory above hd-wallet-derive), we do this so we don't mix up our code with the original one."
   ]
  },
  {
   "cell_type": "code",
   "execution_count": 4,
   "metadata": {},
   "outputs": [],
   "source": [
    "import os\n",
    "os.chdir(r'C:\\Users\\hatti\\GWU_Bootcamp\\19-Blockchain-Python\\Homework\\hd-wallet-derive')"
   ]
  },
  {
   "cell_type": "code",
   "execution_count": 5,
   "metadata": {},
   "outputs": [
    {
     "data": {
      "text/plain": [
       "'C:\\\\Users\\\\hatti\\\\GWU_Bootcamp\\\\19-Blockchain-Python\\\\Homework\\\\hd-wallet-derive'"
      ]
     },
     "execution_count": 5,
     "metadata": {},
     "output_type": "execute_result"
    }
   ],
   "source": [
    "pwd()"
   ]
  },
  {
   "cell_type": "code",
   "execution_count": 6,
   "metadata": {},
   "outputs": [
    {
     "name": "stdout",
     "output_type": "stream",
     "text": [
      "b' Volume in drive C is OS\\r\\n Volume Serial Number is 96C7-9812\\r\\n\\r\\n Directory of C:\\\\Users\\\\hatti\\\\GWU_Bootcamp\\\\19-Blockchain-Python\\\\Homework\\\\hd-wallet-derive\\r\\n\\r\\n02/16/2021  07:16 PM    <DIR>          .\\r\\n02/16/2021  07:16 PM    <DIR>          ..\\r\\n02/16/2021  07:15 PM                32 .gitignore\\r\\n02/16/2021  07:15 PM               556 composer.json\\r\\n02/16/2021  07:16 PM         2,205,196 composer.phar\\r\\n02/16/2021  07:15 PM    <DIR>          doc\\r\\n02/16/2021  07:15 PM             2,599 hd-wallet-derive.php\\r\\n02/16/2021  07:15 PM            35,815 LICENSE\\r\\n02/16/2021  07:15 PM            51,465 README.md\\r\\n02/16/2021  07:15 PM    <DIR>          src\\r\\n02/16/2021  07:15 PM    <DIR>          tests\\r\\n02/16/2021  07:15 PM                 8 VERSION\\r\\n               7 File(s)      2,295,671 bytes\\r\\n               5 Dir(s)  160,151,040,000 bytes free\\r\\n'\n"
     ]
    }
   ],
   "source": [
    "import subprocess\n",
    "\n",
    "command = 'dir'\n",
    "\n",
    "p = subprocess.Popen(command, stdout=subprocess.PIPE, shell=True)\n",
    "\n",
    "\n",
    "(output, err) = p.communicate()\n",
    "\n",
    "print(output)\n"
   ]
  },
  {
   "cell_type": "code",
   "execution_count": 11,
   "metadata": {},
   "outputs": [
    {
     "name": "stdout",
     "output_type": "stream",
     "text": [
      "b''\n"
     ]
    }
   ],
   "source": [
    "import subprocess\n",
    "\n",
    "# Mac Users, you might have to try the commented version\n",
    "#command = './derive -g --mnemonic=\"person tortoise lake saddle face member apology silk amount release airport hospital\" --cols=path,address,privkey,pubkey --format=json'\n",
    "command = 'hd-wallet-derive.php -g --mnemonic=\"pig chimney brain stool open sea since increase canoe sand bronze wise\" --cols=path,address,privkey,pubkey'\n",
    "\n",
    "p = subprocess.Popen(command, stdout=subprocess.PIPE, shell=True)\n",
    "\n",
    "(output, err) = p.communicate()\n",
    "print(output)\n"
   ]
  },
  {
   "cell_type": "markdown",
   "metadata": {},
   "source": [
    "## Metin, there has to be a cleaner way to print this out man, what am I supposed to do with this file??"
   ]
  },
  {
   "cell_type": "markdown",
   "metadata": {},
   "source": [
    "#### Calm down my friend, we can also get the output in json format, like so:"
   ]
  },
  {
   "cell_type": "code",
   "execution_count": 11,
   "metadata": {},
   "outputs": [
    {
     "name": "stdout",
     "output_type": "stream",
     "text": [
      "[{'path': \"m/44'/0'/0'/0/0\", 'address': '1MPJvmYfVVukvknYRdA8crtF4pt3PiLYQG', 'privkey': 'KxtFEGFemoz1xEtBKsac4s49VPKZB7L6k5VJDyeJ187McNQqFG8C', 'pubkey': '03718a7cddfbddc5f115db700cbfe3fb72a502726e91ed70e24949fc2e832dee01'}, {'path': \"m/44'/0'/0'/0/1\", 'address': '1Cbbqvp6rZKiA8GfZYTsNmZHZ83hwWX9Rj', 'privkey': 'L4Qoi8rm45VN19bj8tJBCQVJWYrdJCd6mqiKfHqWAiu3DfzUEkte', 'pubkey': '039ecabc056b75f20097b1fb5924b8c5b2a20ccf3ee91914132cd354d8623d2890'}, {'path': \"m/44'/0'/0'/0/2\", 'address': '13kYgNMqFAuCCEY3uUQ4GR1XXyxWfG6W7s', 'privkey': 'L5aYjLLAJFeCAVV9q1pqRWdk9EiFbacNZd6inQtha8AtRxcVqLGz', 'pubkey': '0305079382c356aa6dc9e8294b3c8777da96b32c78adfd5f0ebaa78f5de9f5427a'}, {'path': \"m/44'/0'/0'/0/3\", 'address': '1CDu5b6g4KX1LzPM9WfzVS9gYoQDPSnMFA', 'privkey': 'L1RntjuM8L9cR6Kf1W1HRPXcBdFZj6fDmN1iteMmKSFCHS8gcpZM', 'pubkey': '02c351c302aee8d2ef6f6b2a786d535440b8eb64831451b37533ac1ac2e6925917'}, {'path': \"m/44'/0'/0'/0/4\", 'address': '17y2hWSgnoWGt4VFsEAL2CuQ4VMDNjyxY5', 'privkey': 'Kzak6EoGGCx48FtTzepnZX9DHiUegp1k3tJBfcmGrPHsFVQQfbdt', 'pubkey': '021c1d0ef80498e633006de9eee20e1e97439066d85071319a1ea891348bedecfa'}, {'path': \"m/44'/0'/0'/0/5\", 'address': '12E3otbpMSg33BcxVBLeUY3cbTDoZRg7rp', 'privkey': 'KyHQhXFLUGDLLjQnMoMX3H6hdVnVXjBD2Simz1oExGt21rxW1LmP', 'pubkey': '02cced316714832243de34cbc5d2f5420a519e2ced00c95407a824a29699d8317c'}, {'path': \"m/44'/0'/0'/0/6\", 'address': '1FUwfuAKc13SYkNAVCDH3CD5vahcvVmfrC', 'privkey': 'KwrwUYqvkntfbhCEhDUJRweBZNELLkWna6H6nwirwDMXgLtqfikL', 'pubkey': '030276750c8d8b148fed673363c3231e48ef4f8756a2f07da2f7a78461ffdb347a'}, {'path': \"m/44'/0'/0'/0/7\", 'address': '18W6RtmpAz4oMKp16aneSPvQbXLRikbnBQ', 'privkey': 'L4pveSvGRLqff5RUBfBya7rkZJUUvu6VbyjTw1rrJq8Pa4gavrrg', 'pubkey': '02ef403659b493027f2387d964372fd9a34c950772f1c2aa497549633603456e83'}, {'path': \"m/44'/0'/0'/0/8\", 'address': '1FyKGbtH9X3GkL2u3cuEJRvBnSCJ8DbTQ2', 'privkey': 'L4YE59G77UiTc7Q7LdbiRbD7rS3s9y4baCpsMFCFTi3AoT6Dmrus', 'pubkey': '03975f31a08a03b96c0a97258644c9af0357cabd927193c33b455945e7f6920b74'}, {'path': \"m/44'/0'/0'/0/9\", 'address': '1BAVoUkRWsMsyu9NygBkxTKLcyyQNnrHCY', 'privkey': 'L54VzeKKppqebrfZ2omNcLpNyAVKx7omVQXKiuHzVBj3MEUsrPn6', 'pubkey': '02ac93f7f1862d6541eb62315df3c5f79706a7727371d994c2bc487e7185cb4137'}]\n"
     ]
    }
   ],
   "source": [
    "import subprocess\n",
    "import json\n",
    "\n",
    "#command = './derive -g --mnemonic=\"person tortoise lake saddle face member apology silk amount release airport hospital\" --cols=path,address,privkey,pubkey --format=json'\n",
    "command = 'php derive -g --mnemonic=\"person tortoise lake saddle face member apology silk amount release airport hospital\" --cols=path,address,privkey,pubkey --format=json'\n",
    "\n",
    "p = subprocess.Popen(command, stdout=subprocess.PIPE, shell=True)\n",
    "(output, err) = p.communicate()\n",
    "\n",
    "\n",
    "keys = json.loads(output)\n",
    "print(keys)"
   ]
  },
  {
   "cell_type": "markdown",
   "metadata": {},
   "source": [
    "## Metin, that still looks like mumbo jumbo to me, how am I supposed to access individiual keys from this?"
   ]
  },
  {
   "cell_type": "markdown",
   "metadata": {},
   "source": [
    "#### First of all, 'mumbo jumbo' is not a word, and second of all, recall that json files are just like a combination of lists and dictionaries and we can access their elements like so:"
   ]
  },
  {
   "cell_type": "code",
   "execution_count": 12,
   "metadata": {},
   "outputs": [
    {
     "name": "stdout",
     "output_type": "stream",
     "text": [
      "1MPJvmYfVVukvknYRdA8crtF4pt3PiLYQG\n"
     ]
    }
   ],
   "source": [
    "print(keys[0]['address'])"
   ]
  },
  {
   "cell_type": "code",
   "execution_count": 15,
   "metadata": {},
   "outputs": [
    {
     "ename": "AttributeError",
     "evalue": "'list' object has no attribute 'items'",
     "output_type": "error",
     "traceback": [
      "\u001b[1;31m---------------------------------------------------------------------------\u001b[0m",
      "\u001b[1;31mAttributeError\u001b[0m                            Traceback (most recent call last)",
      "\u001b[1;32m<ipython-input-15-c3a8ce38ae42>\u001b[0m in \u001b[0;36m<module>\u001b[1;34m\u001b[0m\n\u001b[0;32m      1\u001b[0m \u001b[1;31m## sample code\u001b[0m\u001b[1;33m\u001b[0m\u001b[1;33m\u001b[0m\u001b[1;33m\u001b[0m\u001b[0m\n\u001b[1;32m----> 2\u001b[1;33m \u001b[1;32mfor\u001b[0m \u001b[0mi\u001b[0m \u001b[1;32min\u001b[0m \u001b[0mkeys\u001b[0m\u001b[1;33m.\u001b[0m\u001b[0mitems\u001b[0m\u001b[1;33m:\u001b[0m\u001b[1;33m\u001b[0m\u001b[1;33m\u001b[0m\u001b[0m\n\u001b[0m\u001b[0;32m      3\u001b[0m     \u001b[0mprint\u001b[0m\u001b[1;33m(\u001b[0m\u001b[0mkeys\u001b[0m\u001b[1;33m[\u001b[0m\u001b[0mi\u001b[0m\u001b[1;33m]\u001b[0m\u001b[1;33m[\u001b[0m\u001b[1;34m'address'\u001b[0m\u001b[1;33m]\u001b[0m\u001b[1;33m)\u001b[0m\u001b[1;33m\u001b[0m\u001b[1;33m\u001b[0m\u001b[0m\n\u001b[0;32m      4\u001b[0m \u001b[1;33m\u001b[0m\u001b[0m\n",
      "\u001b[1;31mAttributeError\u001b[0m: 'list' object has no attribute 'items'"
     ]
    }
   ],
   "source": [
    "## sample code\n",
    "for i in keys.items:\n",
    "    print(keys[i]['address'])\n",
    "    "
   ]
  },
  {
   "cell_type": "code",
   "execution_count": null,
   "metadata": {},
   "outputs": [],
   "source": [
    "account = priv_key_to_account(BTCTEST, coins[BTCTEST][0]['privkey'])"
   ]
  },
  {
   "cell_type": "code",
   "execution_count": 7,
   "metadata": {},
   "outputs": [
    {
     "ename": "ModuleNotFoundError",
     "evalue": "No module named 'bit'",
     "output_type": "error",
     "traceback": [
      "\u001b[1;31m---------------------------------------------------------------------------\u001b[0m",
      "\u001b[1;31mModuleNotFoundError\u001b[0m                       Traceback (most recent call last)",
      "\u001b[1;32m<ipython-input-7-a196cf86f40e>\u001b[0m in \u001b[0;36m<module>\u001b[1;34m\u001b[0m\n\u001b[0;32m      5\u001b[0m \u001b[1;32mfrom\u001b[0m \u001b[0mpprint\u001b[0m \u001b[1;32mimport\u001b[0m \u001b[0mpprint\u001b[0m\u001b[1;33m\u001b[0m\u001b[1;33m\u001b[0m\u001b[0m\n\u001b[0;32m      6\u001b[0m \u001b[1;33m\u001b[0m\u001b[0m\n\u001b[1;32m----> 7\u001b[1;33m \u001b[1;32mfrom\u001b[0m \u001b[0mbit\u001b[0m \u001b[1;32mimport\u001b[0m \u001b[0mPrivateKeyTestnet\u001b[0m\u001b[1;33m\u001b[0m\u001b[1;33m\u001b[0m\u001b[0m\n\u001b[0m\u001b[0;32m      8\u001b[0m \u001b[1;32mfrom\u001b[0m \u001b[0mbit\u001b[0m\u001b[1;33m.\u001b[0m\u001b[0mnetwork\u001b[0m \u001b[1;32mimport\u001b[0m \u001b[0mNetworkAPI\u001b[0m\u001b[1;33m\u001b[0m\u001b[1;33m\u001b[0m\u001b[0m\n\u001b[0;32m      9\u001b[0m \u001b[1;33m\u001b[0m\u001b[0m\n",
      "\u001b[1;31mModuleNotFoundError\u001b[0m: No module named 'bit'"
     ]
    }
   ],
   "source": [
    "import subprocess\n",
    "import json\n",
    "import os\n",
    "\n",
    "from pprint import pprint\n",
    "\n",
    "from bit import PrivateKeyTestnet\n",
    "from bit.network import NetworkAPI\n",
    "\n",
    "from web3 import Web3, middleware, Account\n",
    "from web3.gas_strategies.time_based import medium_gas_price_strategy\n",
    "from web3.middleware import geth_poa_middleware\n"
   ]
  },
  {
   "cell_type": "code",
   "execution_count": null,
   "metadata": {},
   "outputs": [],
   "source": []
  }
 ],
 "metadata": {
  "kernelspec": {
   "display_name": "Python 3",
   "language": "python",
   "name": "python3"
  },
  "language_info": {
   "codemirror_mode": {
    "name": "ipython",
    "version": 3
   },
   "file_extension": ".py",
   "mimetype": "text/x-python",
   "name": "python",
   "nbconvert_exporter": "python",
   "pygments_lexer": "ipython3",
   "version": "3.8.3"
  }
 },
 "nbformat": 4,
 "nbformat_minor": 4
}
